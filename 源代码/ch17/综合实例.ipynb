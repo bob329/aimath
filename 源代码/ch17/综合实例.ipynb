{
 "cells": [
  {
   "cell_type": "code",
   "execution_count": null,
   "metadata": {},
   "outputs": [],
   "source": [
    "#例题17.10\n",
    "import matplotlib.pyplot as plt\n",
    "import numpy as np\n",
    "import pandas as pd\n",
    "import pymc3 as pm\n",
    "import scipy\n",
    "import scipy.stats as stats\n",
    "import scipy.optimize as opt\n",
    "import matplotlib.pyplot as plt\n",
    "def poisson_logprob(mu, sign=-1):\n",
    "    return np.sum(sign*stats.poisson.logpmf(y_obs, mu=mu))\n",
    "# 读取数据文件\n",
    "messages = pd.read_csv('data/QQ_data.csv')\n",
    "with pm.Model() as model:\n",
    "    # 创建一个概率模型\n",
    "    mu = pm.Uniform('mu', lower=0, upper=60)\n",
    "    likelihood = pm.Poisson('likelihood', mu=mu, observed=messages['numbers'].values)\n",
    "    start = pm.find_MAP()\n",
    "    step = pm.Metropolis()\n",
    "    trace = pm.sample(20000, step, start=start, progressbar=True)\n",
    "y_obs = messages['numbers'].values\n",
    "#极大似然估计求解mu\n",
    "freq_results = opt.minimize_scalar(poisson_logprob)\n",
    "#traceplot函数来绘制后验采样的趋势图\n",
    "pm.traceplot(trace, var_names=['mu'], lines={'mu': freq_results['x']})"
   ]
  },
  {
   "cell_type": "code",
   "execution_count": null,
   "metadata": {},
   "outputs": [],
   "source": [
    "# 例17.11 定义一个抛硬币问题，假设硬币正面向上的概率为0.35，生成数据样本\n",
    "import numpy as np\n",
    "import scipy.stats as stats\n",
    "import pymc3 as pm\n",
    "np.random.seed(1)\n",
    "n_experiments = 100 # 试验次数\n",
    "theta_real = 0.35 # 硬币正面向上的概率参数 θ，用 theta_real 来表示\n",
    "data = stats.bernoulli.rvs(p=theta_real, size=n_experiments)\n",
    "print(data)"
   ]
  },
  {
   "cell_type": "code",
   "execution_count": null,
   "metadata": {},
   "outputs": [],
   "source": [
    "with pm.Model() as our_first_model: # 构建了一个模型的容器\n",
    "    theta = pm.Beta('theta', alpha=1, beta=1) # 指定先验\n",
    "    #用跟先验相同的语法描述了似然概率，用 observed 参数传递了观测到的数据\n",
    "    y= pm.Bernoulli('y', p=theta, observed=data)\n",
    "    # 返回最大后验（Maximum a Posteriori，MAP），为采样方法提供一个初始点\n",
    "    start=pm.find_MAP()\n",
    "    # 采样方法Metropolis-Hastings 算法，PyMC3会根据不同参数的特性自动地赋予一个采样器\n",
    "    step = pm.Metropolis()\n",
    "    # 执行采样，其中第 1 个参数是采样次数，第 2 个和第 3 个参数分别是采样方法和初始点\n",
    "    trace = pm.sample(1000, step=step, start=start)\n",
    "    "
   ]
  },
  {
   "cell_type": "code",
   "execution_count": null,
   "metadata": {},
   "outputs": [],
   "source": [
    "#样本路径图\n",
    "burnin = 100\n",
    "chain = trace[burnin:]\n",
    "pm.traceplot(chain, lines={'theta': theta_real})"
   ]
  },
  {
   "cell_type": "code",
   "execution_count": null,
   "metadata": {},
   "outputs": [],
   "source": [
    "#Gelman-Rubin 检验\n",
    "pm.gelman_rubin(chain)"
   ]
  },
  {
   "cell_type": "code",
   "execution_count": null,
   "metadata": {},
   "outputs": [],
   "source": [
    "pm.summary(chain)"
   ]
  },
  {
   "cell_type": "code",
   "execution_count": null,
   "metadata": {},
   "outputs": [],
   "source": [
    "pm.autocorrplot(chain)"
   ]
  },
  {
   "cell_type": "code",
   "execution_count": null,
   "metadata": {},
   "outputs": [],
   "source": [
    "pm.effective_n(chain)['theta']"
   ]
  },
  {
   "cell_type": "code",
   "execution_count": null,
   "metadata": {},
   "outputs": [],
   "source": [
    "pm.plot_posterior(chain)"
   ]
  }
 ],
 "metadata": {
  "kernelspec": {
   "display_name": "Python 3",
   "language": "python",
   "name": "python3"
  },
  "language_info": {
   "codemirror_mode": {
    "name": "ipython",
    "version": 3
   },
   "file_extension": ".py",
   "mimetype": "text/x-python",
   "name": "python",
   "nbconvert_exporter": "python",
   "pygments_lexer": "ipython3",
   "version": "3.9.12"
  }
 },
 "nbformat": 4,
 "nbformat_minor": 2
}
